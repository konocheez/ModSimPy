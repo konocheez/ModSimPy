{
 "cells": [
  {
   "cell_type": "markdown",
   "metadata": {},
   "source": [
    "## We no want Gwen to Die"
   ]
  },
  {
   "cell_type": "markdown",
   "metadata": {},
   "source": [
    "Gwen Stacy is Spiderman's formerly alive ex-girlfriend. That's sad. He didn't even get to break up with her. She died. In his arms. At his hands.\n",
    "\n",
    "The scenario begins as such: Spiderman is fighting the green goblin (not the hobgoblin, he hasn't made any movie appearances yet), in a giant clock tower. Gwen Stacy (SpyderBoi's, at the time, living girlfriend) was dangling from his web in the clcok. Well as expected, Spiderbuddy makes a wrong step, the web breaks, the clock breaks, and Gwen is accelerating towards the ground with giant metal gears and clocks. Spiderman dives, shoots his web at her, and then he grabs onto a metal bar, stopping himself, but leaving her survival solely on the physics of her body and the web. In case it wasn't clear, she died. \n",
    "\n",
    "In the movie, the web attached to her abdomen as she was falling, and she died because her head hit the floor with too great of an acceleration. In other words, SpideyBoi was just a wee bit too slow to be the be the cool guy that beats the villain and gets the girl. Realistically, we wanted to model the forces and motion of this fall, to determine how she could have survived if she hadn't hit the ground. This would require the force of tension in the web to be less than what's necessary to break a human spine. "
   ]
  },
  {
   "cell_type": "markdown",
   "metadata": {},
   "source": [
    "Our goal is to determine the optimal catch time for Gwen Stacy's mortal vessel along with optimal elasticity for spiderman's webs. \n",
    "\n",
    "Varying change in time (time from max v to 0 m/s) through swept values or ODE solver (in which would vary the force exerted on her body). This would be the amount of time it took for Gwen Stacy's mortal vessel to stop falling once she was caught by the web that could've broken her spine if she had not busted her head on the ground. \n",
    "\n",
    "If we sweep change in time values for velocity, we would have control over the amount of time it would take for her to stop falling. Using ODE solver would allow for us to stop the simulation once a lethal amount of force is exerted upon her human vessel (thus causing unaliving). \n"
   ]
  },
  {
   "cell_type": "markdown",
   "metadata": {},
   "source": [
    "### Question?"
   ]
  },
  {
   "cell_type": "markdown",
   "metadata": {},
   "source": [
    "What would be the optimal time to catch Gwen Stacy as she was falling from the clock tower so that she could survive the forces on her body?"
   ]
  },
  {
   "cell_type": "markdown",
   "metadata": {},
   "source": [
    "### Model"
   ]
  },
  {
   "cell_type": "markdown",
   "metadata": {},
   "source": [
    "Below begins the configuration and the continuation of our model."
   ]
  },
  {
   "cell_type": "code",
   "execution_count": 1,
   "metadata": {},
   "outputs": [],
   "source": [
    "# Configure Jupyter so figures appear in the notebook\n",
    "%matplotlib inline\n",
    "\n",
    "# Configure Jupyter to display the assigned value after an assignment\n",
    "%config InteractiveShell.ast_node_interactivity='last_expr_or_assign'\n",
    "\n",
    "# import functions from the modsim.py module\n",
    "from modsim import *\n"
   ]
  },
  {
   "cell_type": "code",
   "execution_count": 2,
   "metadata": {},
   "outputs": [
    {
     "data": {
      "text/html": [
       "newton"
      ],
      "text/latex": [
       "$newton$"
      ],
      "text/plain": [
       "<Unit('newton')>"
      ]
     },
     "execution_count": 2,
     "metadata": {},
     "output_type": "execute_result"
    }
   ],
   "source": [
    "m = UNITS.meter\n",
    "s = UNITS.second\n",
    "kg = UNITS.kilogram\n",
    "N = UNITS.newtons"
   ]
  },
  {
   "cell_type": "markdown",
   "metadata": {},
   "source": [
    "In this model, we are tracking position and velocity. So, we are going to prepare for this by writing functions that will graph these variables."
   ]
  },
  {
   "cell_type": "code",
   "execution_count": 3,
   "metadata": {},
   "outputs": [],
   "source": [
    "def plot_position(results):\n",
    "    plot(results.height) #plots height\n",
    "    decorate(xlabel='Time (s)', #labels x-axis as Time(s)\n",
    "             ylabel='Position (m)') #labels y-axis Position (m)\n",
    "    "
   ]
  },
  {
   "cell_type": "code",
   "execution_count": 4,
   "metadata": {},
   "outputs": [],
   "source": [
    "def plot_velocity(results):\n",
    "    plot(results.velocity, color='C1', label='v') #plots velocity\n",
    "        \n",
    "    decorate(xlabel='Time (s)', #labels x-axis as Time(s)\n",
    "             ylabel='Velocity (m/s)') #labels y-axis Velocity (m/s)"
   ]
  },
  {
   "cell_type": "markdown",
   "metadata": {},
   "source": [
    "As you can see in the Params function below, there are certain assumptions we make in this model, the most primary of which is that upon a broken spine we assume Gwen will die. We also assume that spider-man stays at a constant height, and doesn't dive after Gwen like in the movie. Many other values, such as the spring constant of spider-man's webbing and gwen stacey's weight were found from different marvel databases. And finally values such as height of the building and density, etc., were chosen based on estimations based on the movie or physics sites. "
   ]
  },
  {
   "cell_type": "code",
   "execution_count": 5,
   "metadata": {},
   "outputs": [
    {
     "data": {
      "text/html": [
       "<div>\n",
       "<style scoped>\n",
       "    .dataframe tbody tr th:only-of-type {\n",
       "        vertical-align: middle;\n",
       "    }\n",
       "\n",
       "    .dataframe tbody tr th {\n",
       "        vertical-align: top;\n",
       "    }\n",
       "\n",
       "    .dataframe thead th {\n",
       "        text-align: right;\n",
       "    }\n",
       "</style>\n",
       "<table border=\"1\" class=\"dataframe\">\n",
       "  <thead>\n",
       "    <tr style=\"text-align: right;\">\n",
       "      <th></th>\n",
       "      <th>values</th>\n",
       "    </tr>\n",
       "  </thead>\n",
       "  <tbody>\n",
       "    <tr>\n",
       "      <th>g</th>\n",
       "      <td>9.81 meter / second ** 2</td>\n",
       "    </tr>\n",
       "    <tr>\n",
       "      <th>forceOfDeath</th>\n",
       "      <td>3000 newton</td>\n",
       "    </tr>\n",
       "    <tr>\n",
       "      <th>k</th>\n",
       "      <td>77400.0 newton / meter</td>\n",
       "    </tr>\n",
       "    <tr>\n",
       "      <th>terminal_velocity</th>\n",
       "      <td>53.0 meter / second</td>\n",
       "    </tr>\n",
       "    <tr>\n",
       "      <th>height_building</th>\n",
       "      <td>100 meter</td>\n",
       "    </tr>\n",
       "    <tr>\n",
       "      <th>L</th>\n",
       "      <td>50 meter</td>\n",
       "    </tr>\n",
       "    <tr>\n",
       "      <th>mass</th>\n",
       "      <td>59 kilogram</td>\n",
       "    </tr>\n",
       "    <tr>\n",
       "      <th>rho</th>\n",
       "      <td>1.2 kilogram / meter ** 2</td>\n",
       "    </tr>\n",
       "    <tr>\n",
       "      <th>area</th>\n",
       "      <td>1 meter ** 2</td>\n",
       "    </tr>\n",
       "  </tbody>\n",
       "</table>\n",
       "</div>"
      ],
      "text/plain": [
       "g                     9.81 meter / second ** 2\n",
       "forceOfDeath                       3000 newton\n",
       "k                       77400.0 newton / meter\n",
       "terminal_velocity          53.0 meter / second\n",
       "height_building                      100 meter\n",
       "L                                     50 meter\n",
       "mass                               59 kilogram\n",
       "rho                  1.2 kilogram / meter ** 2\n",
       "area                              1 meter ** 2\n",
       "dtype: object"
      ]
     },
     "execution_count": 5,
     "metadata": {},
     "output_type": "execute_result"
    }
   ],
   "source": [
    "params = Params( \n",
    "    g = 9.81* m / s**2, #gravity\n",
    "    forceOfDeath = 3000 * N, #amount of force found to break a human spine\n",
    "    k = 7.74e4*N/m, #spring constant\n",
    "    terminal_velocity = 53 * m /s, #terminal velocity of a human being\n",
    "    height_building = 100 * m, #height of the building, a.k.a. initial height\n",
    "    L = 50 * m, #Length of webbing when spiderman goes for the catch, we assume that this length is perfect due to Spider Senses\n",
    "    mass = 59*kg,\n",
    "    rho = 1.2 * kg/m**2, #density\n",
    "    area = 1 * m**2 \n",
    "    )"
   ]
  },
  {
   "cell_type": "code",
   "execution_count": 6,
   "metadata": {},
   "outputs": [],
   "source": [
    "def make_system(params):\n",
    "    unpack(params)\n",
    "    init = State(height = height_building, velocity = 0*m/s)\n",
    "    \n",
    "    C_d = 2 * mass * g / (rho * area * terminal_velocity**2)\n",
    "    t_end = 15 * s\n",
    "    \n",
    "    return System(params, C_d = C_d, \n",
    "                  init = init, t_end = t_end)"
   ]
  },
  {
   "cell_type": "code",
   "execution_count": 7,
   "metadata": {},
   "outputs": [
    {
     "data": {
      "text/html": [
       "<div>\n",
       "<style scoped>\n",
       "    .dataframe tbody tr th:only-of-type {\n",
       "        vertical-align: middle;\n",
       "    }\n",
       "\n",
       "    .dataframe tbody tr th {\n",
       "        vertical-align: top;\n",
       "    }\n",
       "\n",
       "    .dataframe thead th {\n",
       "        text-align: right;\n",
       "    }\n",
       "</style>\n",
       "<table border=\"1\" class=\"dataframe\">\n",
       "  <thead>\n",
       "    <tr style=\"text-align: right;\">\n",
       "      <th></th>\n",
       "      <th>values</th>\n",
       "    </tr>\n",
       "  </thead>\n",
       "  <tbody>\n",
       "    <tr>\n",
       "      <th>g</th>\n",
       "      <td>9.81 meter / second ** 2</td>\n",
       "    </tr>\n",
       "    <tr>\n",
       "      <th>forceOfDeath</th>\n",
       "      <td>3000 newton</td>\n",
       "    </tr>\n",
       "    <tr>\n",
       "      <th>k</th>\n",
       "      <td>77400.0 newton / meter</td>\n",
       "    </tr>\n",
       "    <tr>\n",
       "      <th>terminal_velocity</th>\n",
       "      <td>53.0 meter / second</td>\n",
       "    </tr>\n",
       "    <tr>\n",
       "      <th>height_building</th>\n",
       "      <td>100 meter</td>\n",
       "    </tr>\n",
       "    <tr>\n",
       "      <th>L</th>\n",
       "      <td>50 meter</td>\n",
       "    </tr>\n",
       "    <tr>\n",
       "      <th>mass</th>\n",
       "      <td>59 kilogram</td>\n",
       "    </tr>\n",
       "    <tr>\n",
       "      <th>rho</th>\n",
       "      <td>1.2 kilogram / meter ** 2</td>\n",
       "    </tr>\n",
       "    <tr>\n",
       "      <th>area</th>\n",
       "      <td>1 meter ** 2</td>\n",
       "    </tr>\n",
       "    <tr>\n",
       "      <th>C_d</th>\n",
       "      <td>0.3434140263438947 1 / meter</td>\n",
       "    </tr>\n",
       "    <tr>\n",
       "      <th>init</th>\n",
       "      <td>height               100 meter\n",
       "velocity    0.0...</td>\n",
       "    </tr>\n",
       "    <tr>\n",
       "      <th>t_end</th>\n",
       "      <td>15 second</td>\n",
       "    </tr>\n",
       "  </tbody>\n",
       "</table>\n",
       "</div>"
      ],
      "text/plain": [
       "g                                             9.81 meter / second ** 2\n",
       "forceOfDeath                                               3000 newton\n",
       "k                                               77400.0 newton / meter\n",
       "terminal_velocity                                  53.0 meter / second\n",
       "height_building                                              100 meter\n",
       "L                                                             50 meter\n",
       "mass                                                       59 kilogram\n",
       "rho                                          1.2 kilogram / meter ** 2\n",
       "area                                                      1 meter ** 2\n",
       "C_d                                       0.3434140263438947 1 / meter\n",
       "init                 height               100 meter\n",
       "velocity    0.0...\n",
       "t_end                                                        15 second\n",
       "dtype: object"
      ]
     },
     "execution_count": 7,
     "metadata": {},
     "output_type": "execute_result"
    }
   ],
   "source": [
    "system = make_system(params)"
   ]
  },
  {
   "cell_type": "markdown",
   "metadata": {},
   "source": [
    "Below is the function we used to calculate the force at every given height"
   ]
  },
  {
   "cell_type": "code",
   "execution_count": 8,
   "metadata": {},
   "outputs": [],
   "source": [
    "def force_spring(system, height):\n",
    "    \n",
    "    unpack(system)   \n",
    "    \n",
    "    delta_height = height_building - height\n",
    "    if delta_height < L:\n",
    "        return 0 * N\n",
    "    stretch_length = delta_height - L\n",
    "    spr_force = k * stretch_length\n",
    "    #print(spr_force)\n",
    "    return spr_force\n"
   ]
  },
  {
   "cell_type": "markdown",
   "metadata": {},
   "source": [
    "Below is the function we use to calculate the Drag Force at given velocities"
   ]
  },
  {
   "cell_type": "code",
   "execution_count": 9,
   "metadata": {},
   "outputs": [],
   "source": [
    "def force_drag(system, velocity):\n",
    "    \n",
    "    unpack(system)\n",
    "    \n",
    "    f_drag = -np.sign(velocity) * rho * velocity**2 * C_d * area / 2\n",
    "    return f_drag"
   ]
  },
  {
   "cell_type": "markdown",
   "metadata": {},
   "source": [
    "Below is slope function that we use for our ode solver, in which we find the velocity and acceleration at each time step, based on the forces at the velocities and heights based on time."
   ]
  },
  {
   "cell_type": "code",
   "execution_count": 10,
   "metadata": {},
   "outputs": [],
   "source": [
    "def slope_func(state, time, system):\n",
    "    \n",
    "    y, velocity = state\n",
    "    \n",
    "    unpack(system)\n",
    "    \n",
    "    a_spring = force_spring(system, y) / mass #Finds acceleration due to the Spring Force / Mass\n",
    "    a_drag = force_drag(system, velocity) / mass #Finds acceleration due to the Drag Force / Mass\n",
    "    \n",
    "    acceleration = -g + a_spring + a_drag #Calculates the net acceration based on gravity, spring acceleration and drag acceleration\n",
    "    \n",
    "    return velocity, acceleration\n",
    "    "
   ]
  },
  {
   "cell_type": "markdown",
   "metadata": {},
   "source": [
    "Below is the function we use within our time sweep function, in this slope function we only return acceleration, due to the different structure of the function which will be described below."
   ]
  },
  {
   "cell_type": "code",
   "execution_count": 11,
   "metadata": {},
   "outputs": [],
   "source": [
    "def slope_func2(height, velocity, time, system):\n",
    "    \n",
    "    unpack(system)\n",
    "    \n",
    "    a_spring = force_spring(system, height) / mass #Finds acceleration due to the Spring Force / Mass\n",
    "    a_drag = force_drag(system, velocity) / mass #Finds acceleration due to the Drag Force / Mass\n",
    "    \n",
    "    acceleration = -g + a_spring + a_drag #Calculates the net acceration based on gravity, spring acceleration and drag acceleration\n",
    "    \n",
    "    velocity = acceleration*time + velocity #finds velocity based on acceleration and time\n",
    "    \n",
    "    return acceleration"
   ]
  },
  {
   "cell_type": "markdown",
   "metadata": {},
   "source": [
    "This event function returns when the height is 0, so that way Gwen doesn't go crashing through a ground that doesn't exist. "
   ]
  },
  {
   "cell_type": "code",
   "execution_count": 12,
   "metadata": {},
   "outputs": [],
   "source": [
    "def event_func(state, time, system):\n",
    "    y, velocity = state\n",
    "    \n",
    "    return y\n",
    "    "
   ]
  },
  {
   "cell_type": "markdown",
   "metadata": {},
   "source": [
    "Finally we run through the ODE solver"
   ]
  },
  {
   "cell_type": "code",
   "execution_count": 13,
   "metadata": {},
   "outputs": [],
   "source": [
    "results, details = run_ode_solver(system, slope_func, max_step = .1 * s, events = event_func)"
   ]
  },
  {
   "cell_type": "markdown",
   "metadata": {},
   "source": [
    "### Results"
   ]
  },
  {
   "cell_type": "markdown",
   "metadata": {},
   "source": [
    "And below you will see the results which show Gwen Stacy's y position over time, her velocity as v = dy/dt, and her acceleration as a = dv/dt = dy^2/dt."
   ]
  },
  {
   "cell_type": "code",
   "execution_count": 14,
   "metadata": {
    "scrolled": true
   },
   "outputs": [
    {
     "data": {
      "image/png": "[encoded data removed]",
      "text/plain": [
       "<Figure size 432x288 with 1 Axes>"
      ]
     },
     "metadata": {},
     "output_type": "display_data"
    }
   ],
   "source": [
    "plot_position(results)"
   ]
  },
  {
   "cell_type": "code",
   "execution_count": 15,
   "metadata": {},
   "outputs": [
    {
     "data": {
      "image/png": "[encoded data removed]",
      "text/plain": [
       "<Figure size 432x288 with 1 Axes>"
      ]
     },
     "metadata": {},
     "output_type": "display_data"
    }
   ],
   "source": [
    "plot_velocity(results)"
   ]
  },
  {
   "cell_type": "markdown",
   "metadata": {},
   "source": [
    "Here you see we manipulate the velocity data, to find the acceleration at each timestep. Then we record the maximum acceleration throughout the run, to find the maximum force."
   ]
  },
  {
   "cell_type": "code",
   "execution_count": 16,
   "metadata": {},
   "outputs": [
    {
     "data": {
      "text/html": [
       "850.4840992539125 meter/second<sup>2</sup>"
      ],
      "text/latex": [
       "$850.4840992539125 \\frac{meter}{second^{2}}$"
      ],
      "text/plain": [
       "<Quantity(850.4840992539125, 'meter / second ** 2')>"
      ]
     },
     "execution_count": 16,
     "metadata": {},
     "output_type": "execute_result"
    },
    {
     "data": {
      "image/png": "[encoded data removed]",
      "text/plain": [
       "<Figure size 432x288 with 1 Axes>"
      ]
     },
     "metadata": {},
     "output_type": "display_data"
    }
   ],
   "source": [
    "accel3 = gradient(results.velocity)\n",
    "plot(accel3)\n",
    "max_acceleration = max(accel3) * m/s**2"
   ]
  },
  {
   "cell_type": "markdown",
   "metadata": {},
   "source": [
    "The maximum force is important, since it's the maximum value of acceleration it allows us to determine Gwen's Surival based on whether or not the force is greater than or equal to the force required to break a human spine. \n",
    "\n",
    "In the movie, the web attached to her abdomen as she was falling, and she died because her head hit the floor with too great of an acceleration. Realistically, we wanted to model the forces and motion of this fall, to determine how she could have survived if she hadn't hit the ground. This would require the force of tension in the web to be less than what's necessary to break a human spine. "
   ]
  },
  {
   "cell_type": "code",
   "execution_count": 17,
   "metadata": {},
   "outputs": [
    {
     "data": {
      "text/html": [
       "50178.561855980835 kilogram meter/second<sup>2</sup>"
      ],
      "text/latex": [
       "$50178.561855980835 \\frac{kilogram \\cdot meter}{second^{2}}$"
      ],
      "text/plain": [
       "<Quantity(50178.561855980835, 'kilogram * meter / second ** 2')>"
      ]
     },
     "execution_count": 17,
     "metadata": {},
     "output_type": "execute_result"
    }
   ],
   "source": [
    "max_force = max_acceleration * system.mass"
   ]
  },
  {
   "cell_type": "markdown",
   "metadata": {},
   "source": [
    "Now we begin the portion of our code which actually runs the simulation. The code above shows the steps the following code will take for each run. \n",
    "Directly below is the State function we use to keep track of important variables."
   ]
  },
  {
   "cell_type": "code",
   "execution_count": 18,
   "metadata": {},
   "outputs": [
    {
     "data": {
      "text/html": [
       "<div>\n",
       "<style scoped>\n",
       "    .dataframe tbody tr th:only-of-type {\n",
       "        vertical-align: middle;\n",
       "    }\n",
       "\n",
       "    .dataframe tbody tr th {\n",
       "        vertical-align: top;\n",
       "    }\n",
       "\n",
       "    .dataframe thead th {\n",
       "        text-align: right;\n",
       "    }\n",
       "</style>\n",
       "<table border=\"1\" class=\"dataframe\">\n",
       "  <thead>\n",
       "    <tr style=\"text-align: right;\">\n",
       "      <th></th>\n",
       "      <th>values</th>\n",
       "    </tr>\n",
       "  </thead>\n",
       "  <tbody>\n",
       "    <tr>\n",
       "      <th>force</th>\n",
       "      <td>0</td>\n",
       "    </tr>\n",
       "  </tbody>\n",
       "</table>\n",
       "</div>"
      ],
      "text/plain": [
       "force    0\n",
       "dtype: int64"
      ]
     },
     "execution_count": 18,
     "metadata": {},
     "output_type": "execute_result"
    }
   ],
   "source": [
    "track = State(force = 0)"
   ]
  },
  {
   "cell_type": "markdown",
   "metadata": {},
   "source": [
    "Below is the function we use to determine the length of web that spiderman shoots, based on the time of the catch."
   ]
  },
  {
   "cell_type": "code",
   "execution_count": 19,
   "metadata": {},
   "outputs": [],
   "source": [
    "def web_length_solver(t, accel, speed, L):\n",
    "    if t == 0:\n",
    "        speed = 0*m/s\n",
    "        L = 0*m\n",
    "    else:\n",
    "        print(accel)\n",
    "        speed = t*accel*s\n",
    "        print(\"We made it!\")\n",
    "        L = L + (speed*s)\n",
    "    \n",
    "    \n",
    "    return L, speed\n",
    "  "
   ]
  },
  {
   "cell_type": "markdown",
   "metadata": {},
   "source": [
    "This is the main function. It sweeps the time at which spiderman makes the catch and calculates the different effects of this sweep. This function creates a simulation for each event with different catch times. \n"
   ]
  },
  {
   "cell_type": "markdown",
   "metadata": {},
   "source": [
    "This would be an extension to our results, but we are having trouble in the execution of this block of code. But it will hopefully be remediated very soon. Then we know whether Arachnid_Derived_Powers_Boi could have made a difference. It doesn't matter if he could have made a difference, because she died. "
   ]
  },
  {
   "cell_type": "code",
   "execution_count": 22,
   "metadata": {},
   "outputs": [],
   "source": [
    "def sweep_time(state, params, make_sys, slope_func, event_func):\n",
    "    unpack(params)\n",
    "    frame = TimeFrame(columns= track.index)#establishes the number of cells per\n",
    "                                           #cell type as a Time Frame\n",
    "    t_0 = 0\n",
    "    t_end = 15\n",
    "    frame.row[0] = track.force #puts the initial cell numbers into the Time Frame\n",
    "    \n",
    "    speed = 0 * m / s #initial speed\n",
    "    accel = 9.81*m /s**2 #initial acceleration\n",
    "    height = 1 * m #initial height fallen\n",
    "    \n",
    "    thisIsTheFirstTimeBecauseItIs = True #Keeps track of how far in the linrange the for loop is \n",
    "\n",
    "    for t in linrange(t_0, t_end, endpoint=True ): #counts how many steps we need to run\n",
    "                                       #through and how many we have ran through\n",
    "        if thisIsTheFirstTimeBecauseItIs == True: #If this is the first time that the code is run through the for loop then these params exist\n",
    "            params = Params( \n",
    "          g = 9.81* m / s**2,\n",
    "          forceOfDeath = 3000 * N,\n",
    "          k = 7.74e4*N/m,\n",
    "          terminal_velocity = 53 * m /s,\n",
    "          height_building = 100 * m,\n",
    "          L = 1 * m,\n",
    "          mass = 59*kg,\n",
    "          rho = 1.2 * kg/m**2,\n",
    "          area = 1 * m**2\n",
    "          )\n",
    "        else:                                     #Otherwise these params exist, because these respond to the following code, and react to event changes\n",
    "             params = Params( \n",
    "          g = 9.81* m / s**2,\n",
    "          forceOfDeath = 3000 * N,\n",
    "          k = 7.74e4*N/m,\n",
    "          terminal_velocity = 53 * m /s,\n",
    "          height_building = 100 * m,\n",
    "          L = WebLength,\n",
    "          mass = 59*kg,\n",
    "          rho = 1.2 * kg/m**2,\n",
    "          area = 1 * m**2\n",
    "          )\n",
    "        system = make_system(params)    \n",
    "        \n",
    "        WebLength, speed = web_length_solver(t, accel, speed, L) #Calculates WebLength\n",
    "        \n",
    "    \n",
    "        \n",
    "        accel = slope_func2(L, speed, t*s, system) #Calculates acceleration\n",
    "\n",
    "        results, details = run_ode_solver(system, slope_func, max_step = .1 * s,\n",
    "                                          events = event_func) #records the \n",
    "                                                         #results from each step\n",
    "        velocity = max(results.velocity) #max velocity from that event\n",
    "        acceleration = gradient(results.velocity) #accelerations from last event\n",
    "        max_acceleration = max(acceleration) * m/s**2 #max accel\n",
    "        max_force = (max_acceleration * system.mass).to(UNITS.newton) #max force\n",
    "\n",
    "        #print(f't: {t}, dt: {dt}, {max_force}')\n",
    "        frame.row[t] = max_force\n",
    "        \n",
    "        thisIsTheFirstTimeBecauseItIs = False #Marks that one run has been made\n",
    "        \n",
    "      \n",
    "    #returns the final Time Frame, which contains the number of cells for each step through\n",
    "    return frame"
   ]
  },
  {
   "cell_type": "code",
   "execution_count": 23,
   "metadata": {
    "scrolled": true
   },
   "outputs": [
    {
     "name": "stdout",
     "output_type": "stream",
     "text": [
      "128552.90186440678 meter / second ** 2\n",
      "We made it!\n"
     ]
    },
    {
     "ename": "TypeError",
     "evalue": "object of type 'numpy.float64' has no len()",
     "output_type": "error",
     "traceback": [
      "\u001b[1;31m---------------------------------------------------------------------------\u001b[0m",
      "\u001b[1;31mTypeError\u001b[0m                                 Traceback (most recent call last)",
      "\u001b[1;32m<ipython-input-23-3e1f81dca97d>\u001b[0m in \u001b[0;36m<module>\u001b[1;34m()\u001b[0m\n\u001b[1;32m----> 1\u001b[1;33m \u001b[0mresults\u001b[0m \u001b[1;33m=\u001b[0m \u001b[0msweep_time\u001b[0m\u001b[1;33m(\u001b[0m\u001b[0mtrack\u001b[0m\u001b[1;33m,\u001b[0m \u001b[0mparams\u001b[0m\u001b[1;33m,\u001b[0m \u001b[0msystem\u001b[0m\u001b[1;33m,\u001b[0m \u001b[0mslope_func\u001b[0m\u001b[1;33m,\u001b[0m \u001b[0mevent_func\u001b[0m\u001b[1;33m)\u001b[0m\u001b[1;33m\u001b[0m\u001b[0m\n\u001b[0m\u001b[0;32m      2\u001b[0m \u001b[0mplot\u001b[0m\u001b[1;33m(\u001b[0m\u001b[0mresults\u001b[0m\u001b[1;33m)\u001b[0m\u001b[1;33m\u001b[0m\u001b[0m\n",
      "\u001b[1;32m<ipython-input-22-dc1ee385458a>\u001b[0m in \u001b[0;36msweep_time\u001b[1;34m(state, params, make_sys, slope_func, event_func)\u001b[0m\n\u001b[0;32m     56\u001b[0m \u001b[1;33m\u001b[0m\u001b[0m\n\u001b[0;32m     57\u001b[0m         \u001b[1;31m#print(f't: {t}, dt: {dt}, {max_force}')\u001b[0m\u001b[1;33m\u001b[0m\u001b[1;33m\u001b[0m\u001b[0m\n\u001b[1;32m---> 58\u001b[1;33m         \u001b[0mframe\u001b[0m\u001b[1;33m.\u001b[0m\u001b[0mrow\u001b[0m\u001b[1;33m[\u001b[0m\u001b[0mt\u001b[0m\u001b[1;33m]\u001b[0m \u001b[1;33m=\u001b[0m \u001b[0mmax_force\u001b[0m\u001b[1;33m\u001b[0m\u001b[0m\n\u001b[0m\u001b[0;32m     59\u001b[0m \u001b[1;33m\u001b[0m\u001b[0m\n\u001b[0;32m     60\u001b[0m         \u001b[0mthisIsTheFirstTimeBecauseItIs\u001b[0m \u001b[1;33m=\u001b[0m \u001b[1;32mFalse\u001b[0m \u001b[1;31m#Marks that one run has been made\u001b[0m\u001b[1;33m\u001b[0m\u001b[0m\n",
      "\u001b[1;32m~\\Documents\\ModSim\\FinalProject\\modsim.py\u001b[0m in \u001b[0;36m__setitem__\u001b[1;34m(self, key, value)\u001b[0m\n\u001b[0;32m   1088\u001b[0m         \"\"\"Setting just passes the request to the wrapped object.\n\u001b[0;32m   1089\u001b[0m         \"\"\"\n\u001b[1;32m-> 1090\u001b[1;33m         \u001b[0mself\u001b[0m\u001b[1;33m.\u001b[0m\u001b[0mli\u001b[0m\u001b[1;33m[\u001b[0m\u001b[0mkey\u001b[0m\u001b[1;33m]\u001b[0m \u001b[1;33m=\u001b[0m \u001b[0mvalue\u001b[0m\u001b[1;33m\u001b[0m\u001b[0m\n\u001b[0m\u001b[0;32m   1091\u001b[0m \u001b[1;33m\u001b[0m\u001b[0m\n\u001b[0;32m   1092\u001b[0m \u001b[1;33m\u001b[0m\u001b[0m\n",
      "\u001b[1;32mC:\\Miniconda3\\lib\\site-packages\\pandas\\core\\indexing.py\u001b[0m in \u001b[0;36m__setitem__\u001b[1;34m(self, key, value)\u001b[0m\n\u001b[0;32m    187\u001b[0m             \u001b[0mkey\u001b[0m \u001b[1;33m=\u001b[0m \u001b[0mcom\u001b[0m\u001b[1;33m.\u001b[0m\u001b[0m_apply_if_callable\u001b[0m\u001b[1;33m(\u001b[0m\u001b[0mkey\u001b[0m\u001b[1;33m,\u001b[0m \u001b[0mself\u001b[0m\u001b[1;33m.\u001b[0m\u001b[0mobj\u001b[0m\u001b[1;33m)\u001b[0m\u001b[1;33m\u001b[0m\u001b[0m\n\u001b[0;32m    188\u001b[0m         \u001b[0mindexer\u001b[0m \u001b[1;33m=\u001b[0m \u001b[0mself\u001b[0m\u001b[1;33m.\u001b[0m\u001b[0m_get_setitem_indexer\u001b[0m\u001b[1;33m(\u001b[0m\u001b[0mkey\u001b[0m\u001b[1;33m)\u001b[0m\u001b[1;33m\u001b[0m\u001b[0m\n\u001b[1;32m--> 189\u001b[1;33m         \u001b[0mself\u001b[0m\u001b[1;33m.\u001b[0m\u001b[0m_setitem_with_indexer\u001b[0m\u001b[1;33m(\u001b[0m\u001b[0mindexer\u001b[0m\u001b[1;33m,\u001b[0m \u001b[0mvalue\u001b[0m\u001b[1;33m)\u001b[0m\u001b[1;33m\u001b[0m\u001b[0m\n\u001b[0m\u001b[0;32m    190\u001b[0m \u001b[1;33m\u001b[0m\u001b[0m\n\u001b[0;32m    191\u001b[0m     \u001b[1;32mdef\u001b[0m \u001b[0m_validate_key\u001b[0m\u001b[1;33m(\u001b[0m\u001b[0mself\u001b[0m\u001b[1;33m,\u001b[0m \u001b[0mkey\u001b[0m\u001b[1;33m,\u001b[0m \u001b[0maxis\u001b[0m\u001b[1;33m)\u001b[0m\u001b[1;33m:\u001b[0m\u001b[1;33m\u001b[0m\u001b[0m\n",
      "\u001b[1;32mC:\\Miniconda3\\lib\\site-packages\\pandas\\core\\indexing.py\u001b[0m in \u001b[0;36m_setitem_with_indexer\u001b[1;34m(self, indexer, value)\u001b[0m\n\u001b[0;32m    442\u001b[0m                         \u001b[1;31m# must have conforming columns\u001b[0m\u001b[1;33m\u001b[0m\u001b[1;33m\u001b[0m\u001b[0m\n\u001b[0;32m    443\u001b[0m                         \u001b[1;32mif\u001b[0m \u001b[0mis_list_like_indexer\u001b[0m\u001b[1;33m(\u001b[0m\u001b[0mvalue\u001b[0m\u001b[1;33m)\u001b[0m\u001b[1;33m:\u001b[0m\u001b[1;33m\u001b[0m\u001b[0m\n\u001b[1;32m--> 444\u001b[1;33m                             \u001b[1;32mif\u001b[0m \u001b[0mlen\u001b[0m\u001b[1;33m(\u001b[0m\u001b[0mvalue\u001b[0m\u001b[1;33m)\u001b[0m \u001b[1;33m!=\u001b[0m \u001b[0mlen\u001b[0m\u001b[1;33m(\u001b[0m\u001b[0mself\u001b[0m\u001b[1;33m.\u001b[0m\u001b[0mobj\u001b[0m\u001b[1;33m.\u001b[0m\u001b[0mcolumns\u001b[0m\u001b[1;33m)\u001b[0m\u001b[1;33m:\u001b[0m\u001b[1;33m\u001b[0m\u001b[0m\n\u001b[0m\u001b[0;32m    445\u001b[0m                                 raise ValueError(\"cannot set a row with \"\n\u001b[0;32m    446\u001b[0m                                                  \"mismatched columns\")\n",
      "\u001b[1;32mC:\\Miniconda3\\lib\\site-packages\\pint\\quantity.py\u001b[0m in \u001b[0;36m__len__\u001b[1;34m(self)\u001b[0m\n\u001b[0;32m   1079\u001b[0m \u001b[1;33m\u001b[0m\u001b[0m\n\u001b[0;32m   1080\u001b[0m     \u001b[1;32mdef\u001b[0m \u001b[0m__len__\u001b[0m\u001b[1;33m(\u001b[0m\u001b[0mself\u001b[0m\u001b[1;33m)\u001b[0m\u001b[1;33m:\u001b[0m\u001b[1;33m\u001b[0m\u001b[0m\n\u001b[1;32m-> 1081\u001b[1;33m         \u001b[1;32mreturn\u001b[0m \u001b[0mlen\u001b[0m\u001b[1;33m(\u001b[0m\u001b[0mself\u001b[0m\u001b[1;33m.\u001b[0m\u001b[0m_magnitude\u001b[0m\u001b[1;33m)\u001b[0m\u001b[1;33m\u001b[0m\u001b[0m\n\u001b[0m\u001b[0;32m   1082\u001b[0m \u001b[1;33m\u001b[0m\u001b[0m\n\u001b[0;32m   1083\u001b[0m     \u001b[1;32mdef\u001b[0m \u001b[0m__iter__\u001b[0m\u001b[1;33m(\u001b[0m\u001b[0mself\u001b[0m\u001b[1;33m)\u001b[0m\u001b[1;33m:\u001b[0m\u001b[1;33m\u001b[0m\u001b[0m\n",
      "\u001b[1;31mTypeError\u001b[0m: object of type 'numpy.float64' has no len()"
     ]
    }
   ],
   "source": [
    "results = sweep_time(track, params, system, slope_func, event_func)\n",
    "plot(results)"
   ]
  },
  {
   "cell_type": "code",
   "execution_count": null,
   "metadata": {},
   "outputs": [],
   "source": []
  },
  {
   "cell_type": "markdown",
   "metadata": {},
   "source": [
    "### Interpretation"
   ]
  },
  {
   "cell_type": "markdown",
   "metadata": {},
   "source": [
    "We were divided on the answer to this modeling question. Naturally, I, the Jerry Goss have no faith in SpiderTeen's ability to save a girl who didn't have verifiable feelings for him (him being a fairly poor rendition of Spiderman with weird facial expressions). I think Gwen Stacy would have died in all of the arguably realistic scenarios. But who knows, maybe he could have saved her to a point in which she would be in a vegetative state. This is something we cannot accurately quantify, so we assume she lives if she doesn't reach death force. \n",
    "\n",
    "Once our sweep_time is functional, we'll be able to have an answer to this question. But it's not ready yet. \n",
    "\n",
    "Iteration played a huge role in the process as we had to continually iterate different models in order to get what we wanted out of this. We struggled a lot with web attributes and scratched our equations and code a couple of times. We began to see how the bungee jump model could offer us insight into how to approach this problem and it definitely did, especially in regard to equations. We believe we could simplify this significantly by keeping web length constant, so that the elastic quality of the web remains constant, and we could only vary spiderman's height. This would give us control over her max velocity, which contributes to the resulting forc on her body, without the excess content regarding varying natural and stretched lengths of the web for various lengths. "
   ]
  },
  {
   "cell_type": "code",
   "execution_count": null,
   "metadata": {},
   "outputs": [],
   "source": []
  }
 ],
 "metadata": {
  "kernelspec": {
   "display_name": "Python 3",
   "language": "python",
   "name": "python3"
  },
  "language_info": {
   "codemirror_mode": {
    "name": "ipython",
    "version": 3
   },
   "file_extension": ".py",
   "mimetype": "text/x-python",
   "name": "python",
   "nbconvert_exporter": "python",
   "pygments_lexer": "ipython3",
   "version": "3.6.6"
  }
 },
 "nbformat": 4,
 "nbformat_minor": 2
}
