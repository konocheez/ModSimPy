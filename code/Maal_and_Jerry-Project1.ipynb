{
 "cells": [
  {
   "cell_type": "code",
   "execution_count": 2,
   "metadata": {},
   "outputs": [],
   "source": [
    "#/The goal of this model project is to show the indent in the population\n",
    "##if treatment for heart diseases was not available in the United States.\n",
    "##\n"
   ]
  },
  {
   "cell_type": "code",
   "execution_count": 3,
   "metadata": {},
   "outputs": [
    {
     "ename": "NameError",
     "evalue": "name 'State' is not defined",
     "output_type": "error",
     "traceback": [
      "\u001b[1;31m---------------------------------------------------------------------------\u001b[0m",
      "\u001b[1;31mNameError\u001b[0m                                 Traceback (most recent call last)",
      "\u001b[1;32m<ipython-input-3-eb6319b7fcf2>\u001b[0m in \u001b[0;36m<module>\u001b[1;34m()\u001b[0m\n\u001b[0;32m      3\u001b[0m \u001b[1;31m#84 million people suffer from coronary heart disease annually\u001b[0m\u001b[1;33m\u001b[0m\u001b[1;33m\u001b[0m\u001b[0m\n\u001b[0;32m      4\u001b[0m \u001b[1;33m\u001b[0m\u001b[0m\n\u001b[1;32m----> 5\u001b[1;33m \u001b[0minit\u001b[0m \u001b[1;33m=\u001b[0m \u001b[0mState\u001b[0m\u001b[1;33m(\u001b[0m\u001b[0mp\u001b[0m \u001b[1;33m=\u001b[0m \u001b[0mpopt_0\u001b[0m\u001b[1;33m)\u001b[0m\u001b[1;33m\u001b[0m\u001b[0m\n\u001b[0m\u001b[0;32m      6\u001b[0m \u001b[1;33m\u001b[0m\u001b[0m\n\u001b[0;32m      7\u001b[0m US = System(birth_rate = .125, t_0 = 2017, t_end = 2050,\n",
      "\u001b[1;31mNameError\u001b[0m: name 'State' is not defined"
     ]
    }
   ],
   "source": [
    "#in millions\n",
    "#US population was at 325.7 million in 2017\n",
    "#84 million people suffer from coronary heart disease annually\n",
    "\n",
    "init = State(p = popt_0)\n",
    "\n",
    "US = System(birth_rate = .125, t_0 = 2017, t_end = 2050,\n",
    "           w_treatment = 960, wo_treatment = 1049, popt_0 = 325.7,\n",
    "           death_rate = -0.082)"
   ]
  },
  {
   "cell_type": "code",
   "execution_count": 6,
   "metadata": {},
   "outputs": [],
   "source": [
    "def pop_wo_treatment(pop_2017, timeseries, title):\n",
    "    #OR plot population - affected cumulatively from 2017 until 2050 \n",
    "    #(or other year)\n",
    "    \n",
    "    #how do we implement an update function?\n",
    "    \n",
    "    #do we need an update function?\n",
    "    \n",
    "    #potential update function for varying birth rates/death rates for\n",
    "    #population\n",
    "    \n",
    "    results = timeseries\n",
    "    \n",
    "        \n",
    "def run_simulation(treated, untreated, system):\n",
    "    treated = Timeseries()\n",
    "    untreated = Timeseries()\n",
    "    results = Timeseries()\n",
    "    \n",
    "    treated[t_0] = popt_0\n",
    "    untreated[t_0] = popt_0\n",
    "    \n",
    "    for t in range (t_0, t_end):\n",
    "        treated[t+1] = treated[t] - w_treatment*365.25\n",
    "        untreated[t+1] = untreated[t] - wo_treatment*365.25\n",
    "        \n",
    "    net_growth = treated[t]*US.birth_rate + treated[t]*US.death_rate\n",
    "    net_growth2 = untreated[t]*US.birth_rate + untreated[t]*US.death_rate\n",
    "    \n",
    "    return treated+net_growth, untreated+net_growth2\n",
    "        \n",
    "def plot_results(timeseries, timeseries2, title):\n",
    "    plot(treated, ':', label = 'US Census')\n",
    "    plot(untreated, '--', label = 'US Census')\n",
    "    decorate(xlabel = 'Year', \n",
    "             ylabel = 'Population',\n",
    "             title = title)\n",
    "    \n",
    "    \n",
    "    \n",
    "    \n",
    "    "
   ]
  },
  {
   "cell_type": "code",
   "execution_count": 7,
   "metadata": {},
   "outputs": [
    {
     "ename": "NameError",
     "evalue": "name 'treated' is not defined",
     "output_type": "error",
     "traceback": [
      "\u001b[1;31m---------------------------------------------------------------------------\u001b[0m",
      "\u001b[1;31mNameError\u001b[0m                                 Traceback (most recent call last)",
      "\u001b[1;32m<ipython-input-7-7b7d6acdf390>\u001b[0m in \u001b[0;36m<module>\u001b[1;34m()\u001b[0m\n\u001b[1;32m----> 1\u001b[1;33m \u001b[0morig\u001b[0m\u001b[1;33m,\u001b[0m \u001b[0mmodel\u001b[0m  \u001b[1;33m=\u001b[0m \u001b[0mrun_simulation\u001b[0m\u001b[1;33m(\u001b[0m\u001b[0mtreated\u001b[0m\u001b[1;33m,\u001b[0m \u001b[0muntreated\u001b[0m\u001b[1;33m,\u001b[0m \u001b[0mUS\u001b[0m\u001b[1;33m)\u001b[0m\u001b[1;33m\u001b[0m\u001b[0m\n\u001b[0m\u001b[0;32m      2\u001b[0m plot_results(treated, untreated, \n\u001b[0;32m      3\u001b[0m              'Population Without Treatment for Heart Disease')\n",
      "\u001b[1;31mNameError\u001b[0m: name 'treated' is not defined"
     ]
    }
   ],
   "source": [
    "orig, model  = run_simulation(treated, untreated, US)\n",
    "plot_results(treated, untreated, \n",
    "             'Population Without Treatment for Heart Disease')\n"
   ]
  },
  {
   "cell_type": "code",
   "execution_count": null,
   "metadata": {},
   "outputs": [],
   "source": []
  }
 ],
 "metadata": {
  "kernelspec": {
   "display_name": "Python 3",
   "language": "python",
   "name": "python3"
  },
  "language_info": {
   "codemirror_mode": {
    "name": "ipython",
    "version": 3
   },
   "file_extension": ".py",
   "mimetype": "text/x-python",
   "name": "python",
   "nbconvert_exporter": "python",
   "pygments_lexer": "ipython3",
   "version": "3.6.6"
  }
 },
 "nbformat": 4,
 "nbformat_minor": 2
}
